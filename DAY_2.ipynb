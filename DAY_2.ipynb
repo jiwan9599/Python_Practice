{
 "cells": [
  {
   "cell_type": "code",
   "execution_count": 1,
   "id": "eea88b7f",
   "metadata": {},
   "outputs": [
    {
     "name": "stdout",
     "output_type": "stream",
     "text": [
      "4 5\n"
     ]
    }
   ],
   "source": [
    "#WAP to swap values using 3rd variable.\n",
    "a=5\n",
    "b=4\n",
    "c=b  #'c' is our 3rd variable\n",
    "b=a\n",
    "a=c\n",
    "print(a,b)"
   ]
  },
  {
   "cell_type": "code",
   "execution_count": 4,
   "id": "eb8b0129",
   "metadata": {},
   "outputs": [
    {
     "name": "stdout",
     "output_type": "stream",
     "text": [
      "4 5\n"
     ]
    }
   ],
   "source": [
    "#WAP to swap values without using 3rd variable.\n",
    "x = 5\n",
    "y = 4\n",
    " \n",
    "# code to swap 'x' and 'y'\n",
    "x, y = y, x\n",
    " \n",
    "print(x,y)"
   ]
  },
  {
   "cell_type": "code",
   "execution_count": 22,
   "id": "f3b9d64a",
   "metadata": {},
   "outputs": [
    {
     "name": "stdout",
     "output_type": "stream",
     "text": [
      "Enter first number :8\n",
      "Enter second number :2\n",
      "the answer is  10\n"
     ]
    }
   ],
   "source": [
    "#WAP to add two numbers using user input.\n",
    "a=int(input(\"Enter first number :\"))\n",
    "b=int(input(\"Enter second number :\"))\n",
    "c=a+b\n",
    "\n",
    "print(\"the answer is \", c)"
   ]
  },
  {
   "cell_type": "code",
   "execution_count": 9,
   "id": "d63d8b65",
   "metadata": {},
   "outputs": [
    {
     "name": "stdout",
     "output_type": "stream",
     "text": [
      "Enter the first number :8\n",
      "Enter the second number :2\n",
      "The result is :\n",
      "4.0\n"
     ]
    }
   ],
   "source": [
    "#WAP to divide two numbers using user input.\n",
    "a=int(input(\"Enter the first number :\"))\n",
    "b=int(input(\"Enter the second number :\"))\n",
    "c=a/b                  # c=a//b ; to round off \n",
    "print(\"The result is :\")\n",
    "print(c)"
   ]
  },
  {
   "cell_type": "code",
   "execution_count": 17,
   "id": "e9c74dc2",
   "metadata": {},
   "outputs": [
    {
     "name": "stdout",
     "output_type": "stream",
     "text": [
      "Enter your age :25\n",
      "Adult\n"
     ]
    }
   ],
   "source": [
    "#WAP to find adult from someones age.\n",
    "age=int(input(\"Enter your age :\"))\n",
    "if age>18:\n",
    "         print(\"Adult\")\n",
    "else:\n",
    "    print(\"Minor\")"
   ]
  },
  {
   "cell_type": "code",
   "execution_count": 21,
   "id": "0dd7b418",
   "metadata": {},
   "outputs": [
    {
     "name": "stdout",
     "output_type": "stream",
     "text": [
      "Enter a number :7\n",
      "odd\n"
     ]
    }
   ],
   "source": [
    "#WAP to find even number.\n",
    "n=int(input(\"Enter a number :\"))\n",
    "if n%2==0:\n",
    "         print(\"even\")\n",
    "else:\n",
    "    print(\"odd\")"
   ]
  },
  {
   "cell_type": "code",
   "execution_count": null,
   "id": "8fcb6d18",
   "metadata": {},
   "outputs": [],
   "source": []
  },
  {
   "cell_type": "code",
   "execution_count": null,
   "id": "539377ff",
   "metadata": {},
   "outputs": [],
   "source": []
  }
 ],
 "metadata": {
  "kernelspec": {
   "display_name": "Python 3 (ipykernel)",
   "language": "python",
   "name": "python3"
  },
  "language_info": {
   "codemirror_mode": {
    "name": "ipython",
    "version": 3
   },
   "file_extension": ".py",
   "mimetype": "text/x-python",
   "name": "python",
   "nbconvert_exporter": "python",
   "pygments_lexer": "ipython3",
   "version": "3.9.7"
  }
 },
 "nbformat": 4,
 "nbformat_minor": 5
}
